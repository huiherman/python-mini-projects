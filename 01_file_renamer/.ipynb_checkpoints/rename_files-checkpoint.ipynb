{
 "cells": [
  {
   "cell_type": "markdown",
   "id": "ee39cd6a",
   "metadata": {},
   "source": [
    "# 🗂️ File Renamer\n",
    "This notebook renames all `.txt` files in a folder by adding a prefix."
   ]
  },
  {
   "cell_type": "code",
   "execution_count": 9,
   "id": "bf3de76a",
   "metadata": {},
   "outputs": [
    {
     "data": {
      "text/plain": [
       "['./sample_files/renamed_file1.txt',\n",
       " './sample_files/renamed_file2.txt',\n",
       " './sample_files/renamed_notes.txt']"
      ]
     },
     "execution_count": 9,
     "metadata": {},
     "output_type": "execute_result"
    }
   ],
   "source": [
    "import os\n",
    "import glob\n",
    "\n",
    "folder = './sample_files'\n",
    "os.makedirs(folder, exist_ok=True)\n",
    "files = glob.glob(os.path.join(folder, '*.txt'))\n",
    "files"
   ]
  },
  {
   "cell_type": "code",
   "execution_count": 11,
   "id": "08eb0e16",
   "metadata": {},
   "outputs": [
    {
     "name": "stdout",
     "output_type": "stream",
     "text": [
      "Renamed renamed_file1.txt → renamed_renamed_file1.txt\n",
      "Renamed renamed_file2.txt → renamed_renamed_file2.txt\n",
      "Renamed renamed_notes.txt → renamed_renamed_notes.txt\n"
     ]
    }
   ],
   "source": [
    "# Rename files\n",
    "for file in files:\n",
    "    dir_name, filename = os.path.split(file)\n",
    "    new_name = os.path.join(dir_name, 'renamed_' + filename)\n",
    "    os.rename(file, new_name)\n",
    "    print(f'Renamed {filename} → renamed_' + filename)"
   ]
  },
  {
   "cell_type": "code",
   "execution_count": null,
   "id": "2ef8a915-e599-4a0a-918e-472dc465641a",
   "metadata": {},
   "outputs": [],
   "source": []
  },
  {
   "cell_type": "code",
   "execution_count": null,
   "id": "d433cb3c-c515-46a9-8f76-d6f03bc74faf",
   "metadata": {},
   "outputs": [],
   "source": []
  }
 ],
 "metadata": {
  "kernelspec": {
   "display_name": "Python [conda env:base] *",
   "language": "python",
   "name": "conda-base-py"
  },
  "language_info": {
   "codemirror_mode": {
    "name": "ipython",
    "version": 3
   },
   "file_extension": ".py",
   "mimetype": "text/x-python",
   "name": "python",
   "nbconvert_exporter": "python",
   "pygments_lexer": "ipython3",
   "version": "3.12.7"
  }
 },
 "nbformat": 4,
 "nbformat_minor": 5
}
