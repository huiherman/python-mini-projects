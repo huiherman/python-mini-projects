{
 "cells": [
  {
   "cell_type": "markdown",
   "id": "3fbc3c50",
   "metadata": {},
   "source": [
    "# 📊 CSV Analysis\n",
    "This notebook loads and analyzes a CSV file using pandas."
   ]
  },
  {
   "cell_type": "code",
   "execution_count": null,
   "id": "e1af1687",
   "metadata": {},
   "outputs": [],
   "source": [
    "import pandas as pd\n",
    "\n",
    "df = pd.read_csv('sample_data.csv')\n",
    "df.head()"
   ]
  },
  {
   "cell_type": "code",
   "execution_count": null,
   "id": "bde13ef0",
   "metadata": {},
   "outputs": [],
   "source": [
    "df.describe()"
   ]
  },
  {
   "cell_type": "code",
   "execution_count": null,
   "id": "f515eedf",
   "metadata": {},
   "outputs": [],
   "source": [
    "df[df['Age'] > 30]"
   ]
  }
 ],
 "metadata": {},
 "nbformat": 4,
 "nbformat_minor": 5
}